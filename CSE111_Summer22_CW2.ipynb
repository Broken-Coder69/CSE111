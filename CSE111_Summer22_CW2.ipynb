{
  "nbformat": 4,
  "nbformat_minor": 0,
  "metadata": {
    "colab": {
      "provenance": []
    },
    "kernelspec": {
      "name": "python3",
      "display_name": "Python 3"
    },
    "language_info": {
      "name": "python"
    }
  },
  "cells": [
    {
      "cell_type": "code",
      "execution_count": null,
      "metadata": {
        "colab": {
          "base_uri": "https://localhost:8080/"
        },
        "id": "30zcxxZYaZb5",
        "outputId": "8de7f30b-dd11-4e09-e2ac-3d086eccbd52"
      },
      "outputs": [
        {
          "output_type": "stream",
          "name": "stdout",
          "text": [
            "Score is 31.3. You are Obese\n"
          ]
        }
      ],
      "source": [
        "#1\n",
        "\n",
        "\n",
        "def AmiKenoMota(height, weight):\n",
        "  height_cm = height/100\n",
        "  bmi = weight/ (height_cm)**2\n",
        "  print(\"Score is\", \"%.1f\" % bmi , end=\". \" )\n",
        "\n",
        "\n",
        "  if bmi < 18.5:\n",
        "    print(\"You are Underweight\")\n",
        "  elif 18.5 <= bmi <= 24.9:\n",
        "    print(\"You are Normal\")\n",
        "  elif 25 <= bmi <= 30:\n",
        "    print(\"You are Normal\")\n",
        "  elif bmi > 30:\n",
        "    print(\"You are Obese\")\n",
        "\n",
        "AmiKenoMota(175, 96)"
      ]
    },
    {
      "cell_type": "markdown",
      "source": [],
      "metadata": {
        "id": "PEoCaN8J8gLO"
      }
    },
    {
      "cell_type": "code",
      "source": [
        "#2\n",
        "def FoodPanda(burger, location=\"Mohakhali\"):\n",
        "\n",
        "    if location == \"Mohakhali\":\n",
        "        delivery_charge = 40\n",
        "    else:\n",
        "        delivery_charge = 60\n",
        "\n",
        "    if burger == \"BBQ Chicken Chesse Burger\":\n",
        "        meal_cost = 250\n",
        "    elif burger == \"Beef Burger\":\n",
        "        meal_cost = 170\n",
        "    elif burger == \"Naga Drums\":\n",
        "        meal_cost = 200\n",
        "\n",
        "\n",
        "    tax = meal_cost * (8 / 100)\n",
        "\n",
        "    Total_Price = meal_cost + delivery_charge + tax\n",
        "    return Total_Price\n",
        "\n",
        "burger = input()\n",
        "location = input()\n",
        "print(FoodPanda(burger, location))\n",
        "\n",
        "\n",
        "# print(FoodPanda(\"Beef Burger\", \"Dhanmondi\"))\n",
        "# print(FoodPanda(\"Beef Burger\"))"
      ],
      "metadata": {
        "colab": {
          "base_uri": "https://localhost:8080/"
        },
        "id": "o_b-payOfO1u",
        "outputId": "390592bb-2e35-4391-9567-d10b57794c1d"
      },
      "execution_count": null,
      "outputs": [
        {
          "output_type": "stream",
          "name": "stdout",
          "text": [
            "Beef Burger\n",
            "Dhanmondi\n",
            "243.6\n"
          ]
        }
      ]
    },
    {
      "cell_type": "code",
      "source": [
        "#3\n",
        "def replace_domain(email, domain, old_domain=\"kaaj.com\"):\n",
        "\n",
        "\n",
        "    new_email = \"\"\n",
        "    index = -1\n",
        "    for i in range(len(email)):\n",
        "        if email[i] == \"@\":\n",
        "            index = i\n",
        "            break\n",
        "\n",
        "\n",
        "\n",
        "    new_email = email[: index + 1]\n",
        "    # print(new_email)\n",
        "\n",
        "    if old_domain in email:\n",
        "        new_email += domain\n",
        "        comment = \"Changed\"\n",
        "    else:\n",
        "        new_email += domain\n",
        "        comment = \"Unchanged\"\n",
        "\n",
        "    return f\"{comment}: {new_email}\"\n",
        "\n",
        "\n",
        "print(replace_domain(\"alice@kaaj.com\", \"sheba.xyz\", \"kaaj.com\"))\n",
        "print(replace_domain(\"bob@sheba.xyz\", \"sheba.xyz\"))\n"
      ],
      "metadata": {
        "colab": {
          "base_uri": "https://localhost:8080/"
        },
        "id": "S6FRiHeIjadn",
        "outputId": "7916f199-4706-4dba-a345-9b10eda6a6b8"
      },
      "execution_count": null,
      "outputs": [
        {
          "output_type": "stream",
          "name": "stdout",
          "text": [
            "Changed: alice@sheba.xyz\n",
            "Unchanged: bob@sheba.xyz\n"
          ]
        }
      ]
    },
    {
      "cell_type": "code",
      "source": [
        "#4\n",
        "def IsPalindrome(shobdo):\n",
        "\n",
        "    temp = \"\"\n",
        "    for i in shobdo:\n",
        "        if i != \" \":\n",
        "            temp += i\n",
        "\n",
        "    if temp == temp[::-1]:\n",
        "        print(\"Palindrome\")\n",
        "    else:\n",
        "        print(\"Not a palindrome\")\n",
        "\n",
        "\n",
        "\n",
        "IsPalindrome(\"nurses run\")"
      ],
      "metadata": {
        "colab": {
          "base_uri": "https://localhost:8080/"
        },
        "id": "4de7wLNeln2-",
        "outputId": "59adf9b9-a5cd-4d92-8267-58df2933e82f"
      },
      "execution_count": null,
      "outputs": [
        {
          "output_type": "stream",
          "name": "stdout",
          "text": [
            "Palindrome\n"
          ]
        }
      ]
    },
    {
      "cell_type": "code",
      "source": [
        "#5\n",
        "def Converter(day):\n",
        "\n",
        "    year = day // 365\n",
        "    # print(year)\n",
        "    day = day % 365\n",
        "    # print(day)\n",
        "    month = day // 30\n",
        "    # print(month)\n",
        "    day = day % 30\n",
        "    # print(day)\n",
        "\n",
        "    return f\"{year} years, {month} months and {day} days\"\n",
        "\n",
        "\n",
        "print(Converter(4320))\n",
        "print(Converter(4000))"
      ],
      "metadata": {
        "colab": {
          "base_uri": "https://localhost:8080/"
        },
        "id": "dS0k4ETRnFTi",
        "outputId": "4363f088-dc94-498f-89cf-1da2a58dd6e0"
      },
      "execution_count": null,
      "outputs": [
        {
          "output_type": "stream",
          "name": "stdout",
          "text": [
            "11 years, 10 months and 5 days\n",
            "10 years, 11 months and 20 days\n"
          ]
        }
      ]
    },
    {
      "cell_type": "code",
      "source": [
        "print(305%30)"
      ],
      "metadata": {
        "colab": {
          "base_uri": "https://localhost:8080/"
        },
        "id": "lF7i3FTXxzG6",
        "outputId": "c56de270-9965-42b2-ceac-3261d4339a77"
      },
      "execution_count": null,
      "outputs": [
        {
          "output_type": "stream",
          "name": "stdout",
          "text": [
            "5\n"
          ]
        }
      ]
    }
  ]
}